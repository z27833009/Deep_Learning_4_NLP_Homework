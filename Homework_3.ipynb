{
  "nbformat": 4,
  "nbformat_minor": 0,
  "metadata": {
    "colab": {
      "provenance": [],
      "gpuType": "T4",
      "include_colab_link": true
    },
    "kernelspec": {
      "name": "python3",
      "display_name": "Python 3"
    },
    "language_info": {
      "name": "python"
    },
    "accelerator": "TPU"
  },
  "cells": [
    {
      "cell_type": "markdown",
      "metadata": {
        "id": "view-in-github",
        "colab_type": "text"
      },
      "source": [
        "<a href=\"https://colab.research.google.com/github/z27833009/Deep_Learning_4_NLP_Homework/blob/main/Homework_3.ipynb\" target=\"_parent\"><img src=\"https://colab.research.google.com/assets/colab-badge.svg\" alt=\"Open In Colab\"/></a>"
      ]
    },
    {
      "cell_type": "code",
      "source": [
        "from google.colab import drive\n",
        "drive.mount('/content/drive')\n",
        "%cd /content/drive/My Drive/Colab Notebooks/hw3"
      ],
      "metadata": {
        "id": "QiYEF-Fy92ky",
        "colab": {
          "base_uri": "https://localhost:8080/"
        },
        "outputId": "0b498339-93b8-4d43-90a5-ecf91382219e"
      },
      "execution_count": null,
      "outputs": [
        {
          "output_type": "stream",
          "name": "stdout",
          "text": [
            "Mounted at /content/drive\n",
            "/content/drive/My Drive/Colab Notebooks/hw3\n"
          ]
        }
      ]
    },
    {
      "cell_type": "markdown",
      "source": [
        "# **Task 1:  Sequence Tagging with RNNs**\n",
        "\n",
        "In this task, you will implement LSTM and Bi-LSTM architectures with PyTorch to perform part-of-speech tagging (a sequence tagging task).\n",
        "\n",
        "### **Data**\n",
        "We use a subset of the data from the CoNLL-2003 shared task on Named Entity Recognition (provided in the zip). It is pre-partioned into a training, development and test set.\n",
        "\n",
        "The dataset consists of pre-tokenized sentences where every token is annotated with a part-of-speech tag, a syntactic chunk tag and a named entity tag. In this home exercise, we only use the part-of-speech tag."
      ],
      "metadata": {
        "id": "7g3LeIyQ9-kj"
      }
    },
    {
      "cell_type": "code",
      "source": [
        "import torch\n",
        "import torch.nn as nn\n",
        "import os\n",
        "import re\n",
        "import numpy as np\n",
        "from collections import defaultdict\n",
        "from sklearn.metrics import f1_score\n",
        "import matplotlib.pyplot as plt\n",
        "from torch.utils.data import DataLoader, TensorDataset\n",
        "import torch.optim as optim"
      ],
      "metadata": {
        "id": "zEJqyHIV3bC2"
      },
      "execution_count": null,
      "outputs": []
    },
    {
      "cell_type": "markdown",
      "source": [
        "## **Task 1.1: Pretrained Embeddings (5p)**\n",
        "\n",
        "Download the pretrained, uncased GloVe embeddings with 6B tokens [glove.6B.zip](https://nlp.stanford.edu/projects/glove/) from Stanford.\n",
        "\n",
        "For performance reasons, we will only use the 50-dimensional embeddings **glove.6B.50d.txt**.\n",
        "\n",
        "Implement a function to read the embedding and another function to read the dataset."
      ],
      "metadata": {
        "id": "Nb1gCI-f-mJ5"
      }
    },
    {
      "cell_type": "code",
      "source": [
        "def read_data(path):\n",
        "    data = []\n",
        "    labels = []\n",
        "\n",
        "    with open(path, 'r') as file:\n",
        "        for line in file:\n",
        "            line = line.strip()\n",
        "            if line:\n",
        "                parts = line.split()\n",
        "                token = parts[0].lower()\n",
        "                label = parts[-1]\n",
        "                # print(parts)\n",
        "                # print(token,label)\n",
        "                data.append(token)\n",
        "                labels.append(label)\n",
        "\n",
        "\n",
        "    return data,labels\n",
        "\n",
        "\n",
        "def get_pretrained_embeddings(embedding_path):\n",
        "    embeddings = defaultdict(list)\n",
        "\n",
        "    with open(embedding_path, 'r') as file:\n",
        "        for line in file:\n",
        "            line = line.strip()\n",
        "            if line:\n",
        "                values = line.split()\n",
        "                word = values[0]\n",
        "                embedding = torch.tensor([float(val) for val in values[1:]], dtype=torch.float32)\n",
        "                embeddings[word] = embedding\n",
        "\n",
        "    return embeddings\n",
        "\n",
        "\n",
        "\n"
      ],
      "metadata": {
        "id": "gmpt_ya90sJw"
      },
      "execution_count": null,
      "outputs": []
    },
    {
      "cell_type": "markdown",
      "source": [
        "## **Task 1.2: LSTM and Bi-LSTM Model (10p)**\n",
        "\n",
        "We will use PyTorch to build our LSTM. Complete the `__init__()` and the `forward()` function of the CustomLSTM class. The model will have the following components:\n",
        "- A single [LSTM](https://pytorch.org/docs/stable/generated/torch.nn.LSTM.html) layer which takes the embeddings as input and has 100-dimensional hidden layer. The LSTM is **not** bidirectional.\n",
        "- A dropout layer with probability 0.1\n",
        "- A linear layer with input size of 100 (the hidden layer size of the LSTM layer) and output size of the number of labels\n",
        "- A [Sigmoid](https://pytorch.org/docs/stable/generated/torch.nn.Sigmoid.html) activation function"
      ],
      "metadata": {
        "id": "fCdGcnwv_f7o"
      }
    },
    {
      "cell_type": "code",
      "source": [
        "class LSTM(nn.Module):\n",
        "    def __init__(self, input_size, hidden_size, output_size):\n",
        "        super(LSTM, self).__init__()\n",
        "        self.hidden_size = hidden_size\n",
        "        self.embedding = nn.LSTM(input_size, hidden_size)\n",
        "        self.dropout = nn.Dropout(0.1)\n",
        "        self.fc = nn.Linear(hidden_size, output_size)\n",
        "        self.sigmoid = nn.Sigmoid()\n",
        "\n",
        "    def forward(self, input):\n",
        "        output, _ = self.embedding(input)\n",
        "        output = self.dropout(output)\n",
        "        output = self.fc(output)\n",
        "        output = self.sigmoid(output)\n",
        "        return output"
      ],
      "metadata": {
        "id": "Z9QoXzQSoiBS"
      },
      "execution_count": null,
      "outputs": []
    },
    {
      "cell_type": "markdown",
      "source": [
        "## **Task 1.3: Training Model (10p)**\n",
        "\n",
        "Complete the function `train` to train your model. The model will train with batch size of 1 (each sentence split by \"\\n\" is a sample) for 10 epochs. You will train the model with the train dataset and use dev dataset to check the model's performance after each epoch. Calculate the macro f1 score of the model on the dev set. Return the losses and f1 scores for plotting.\n",
        "\n",
        "**Hint**: you can check out this [link](https://pytorch.org/tutorials/beginner/introyt/trainingyt.html#the-training-loop) to get to know more about how to train model with pytorch. For the f1 score you can use `sklearn.metrics.f1_score`, remember to set the `average` parameter to \"macro\".\n"
      ],
      "metadata": {
        "id": "egNWahhpoiu_"
      }
    },
    {
      "cell_type": "code",
      "source": [
        "def label_encode(labels):\n",
        "    labels_list = {'B-LOC': 0, 'B-MISC': 1, 'B-ORG': 2, 'B-PER': 3, 'I-LOC': 4, 'I-MISC': 5, 'I-ORG': 6, 'I-PER': 7,\n",
        "                   'O': 8}\n",
        "    # labels_encode = [labels_list[label] for label in labels]\n",
        "    labels_encode = [labels_list.get(label, 9) for label in labels]\n",
        "    return torch.tensor(labels_encode)"
      ],
      "metadata": {
        "id": "fQLhObb_HJn0"
      },
      "execution_count": null,
      "outputs": []
    },
    {
      "cell_type": "code",
      "source": [
        "# Change this to your path to the dataset\n",
        "train = \"/content/drive/MyDrive/Colab Notebooks/hw3/data/ner_eng_bio.dev\"\n",
        "test = \"/content/drive/MyDrive/Colab Notebooks/hw3/data/ner_eng_bio.test\"\n",
        "dev = \"/content/drive/MyDrive/Colab Notebooks/hw3/data/ner_eng_bio.train\"\n",
        "\n",
        "embeddings = get_pretrained_embeddings(\"/content/drive/MyDrive/Colab Notebooks/hw3/glove.6B.50d.txt\")\n",
        "\n",
        "train_data, train_label = read_data(train)\n",
        "test_data, test_label = read_data(test)\n",
        "dev_data, dev_label = read_data(dev)\n",
        "\n",
        "# print(train_data[1:100])\n",
        "# print(train_label[1:110])\n",
        "def word2vec(data,embeddings):\n",
        "  tokens=[]\n",
        "  for token in data:\n",
        "    if token in embeddings:\n",
        "      tokens.append(embeddings[token])\n",
        "    else:\n",
        "      tokens.append(torch.tensor(np.random.normal(0, 1, 50), dtype=torch.float32))\n",
        "  return tokens\n",
        "\n",
        "# group token into sentences\n",
        "def generate_sentences(token_list, ner_list):\n",
        "    sentences = []\n",
        "    ner_sentences = []\n",
        "    current_sentence = []\n",
        "    current_ner = []\n",
        "\n",
        "    for token, ner in zip(token_list, ner_list):\n",
        "        current_sentence.append(token)\n",
        "        current_ner.append(ner)\n",
        "\n",
        "        # If the current token is a sentence ending token (such as a period, question mark, exclamation point, etc.), add the current sentence to the list of sentences\n",
        "        if token.endswith(('.', '?', '!')):\n",
        "            sentences.append(current_sentence[:])\n",
        "            ner_sentences.append(current_ner[:])\n",
        "            current_sentence = []\n",
        "            current_ner = []\n",
        "\n",
        "    # If the last sentence does not have an ending flag, add it to the list of sentences\n",
        "    if current_sentence:\n",
        "        sentences.append(current_sentence)\n",
        "        ner_sentences.append(current_ner)\n",
        "\n",
        "    return sentences, ner_sentences\n",
        "\n",
        "# transform sentences and labels into vectors and numerical labels\n",
        "def preprocess_sentences(sentences, ner_sentences, embeddings):\n",
        "    token_list = []\n",
        "    ner_list = []\n",
        "\n",
        "    for sentence, ner_sentence in zip(sentences, ner_sentences):\n",
        "        tokens = word2vec(sentence, embeddings)\n",
        "        ner_labels = label_encode(ner_sentence)\n",
        "\n",
        "        token_list.append(tokens)\n",
        "        ner_list.append(ner_labels)\n",
        "\n",
        "    return token_list, ner_list\n",
        "\n",
        "# Process train dataset\n",
        "sentences, ner_sentences = generate_sentences(train_data, train_label)     # create sentences from tokens\n",
        "emb_sentences, encod_ner =preprocess_sentences(sentences, ner_sentences,embeddings)   # convert sentence and labels into veectors and numbers\n",
        "train_emb_sentences_tensor = [torch.stack(tokens) for tokens in emb_sentences]\n",
        "train_encod_ner_tensor = [torch.tensor(labels) for labels in encod_ner]\n",
        "\n",
        "\n",
        "# Process dev dataset\n",
        "dev_sentences, dev_ner_sentences = generate_sentences(dev_data, dev_label)\n",
        "dev_emb_sentences, dev_encod_ner = preprocess_sentences(dev_sentences, dev_ner_sentences, embeddings)\n",
        "dev_emb_sentences_tensor = [torch.stack(tokens) for tokens in dev_emb_sentences]\n",
        "dev_encod_ner_tensor = [torch.tensor(labels) for labels in dev_encod_ner]\n",
        "\n",
        "# Process test dataset\n",
        "test_sentences, test_ner_sentences = generate_sentences(test_data, test_label)\n",
        "test_emb_sentences, test_encod_ner = preprocess_sentences(test_sentences, test_ner_sentences, embeddings)\n",
        "test_emb_sentences_tensor = [torch.stack(tokens) for tokens in test_emb_sentences]\n",
        "test_encod_ner_tensor = [torch.tensor(labels) for labels in test_encod_ner]\n",
        "\n"
      ],
      "metadata": {
        "id": "Jg4WnZx2dej3",
        "colab": {
          "base_uri": "https://localhost:8080/"
        },
        "outputId": "652d7607-463c-48dc-e372-3b531dcdb160"
      },
      "execution_count": null,
      "outputs": [
        {
          "output_type": "stream",
          "name": "stderr",
          "text": [
            "<ipython-input-87-3e5f9e3bc71c>:66: UserWarning: To copy construct from a tensor, it is recommended to use sourceTensor.clone().detach() or sourceTensor.clone().detach().requires_grad_(True), rather than torch.tensor(sourceTensor).\n",
            "  train_encod_ner_tensor = [torch.tensor(labels) for labels in encod_ner]\n",
            "<ipython-input-87-3e5f9e3bc71c>:73: UserWarning: To copy construct from a tensor, it is recommended to use sourceTensor.clone().detach() or sourceTensor.clone().detach().requires_grad_(True), rather than torch.tensor(sourceTensor).\n",
            "  dev_encod_ner_tensor = [torch.tensor(labels) for labels in dev_encod_ner]\n",
            "<ipython-input-87-3e5f9e3bc71c>:79: UserWarning: To copy construct from a tensor, it is recommended to use sourceTensor.clone().detach() or sourceTensor.clone().detach().requires_grad_(True), rather than torch.tensor(sourceTensor).\n",
            "  test_encod_ner_tensor = [torch.tensor(labels) for labels in test_encod_ner]\n"
          ]
        }
      ]
    },
    {
      "cell_type": "code",
      "source": [
        "print(f'Stentences length: {len(train_emb_sentences_tensor)}')\n",
        "print(f'Tags length: {len(train_encod_ner_tensor)}\\n')\n",
        "\n",
        "print(f'Stentences[1] length: {len(train_emb_sentences_tensor[1])}')\n",
        "print(f'Tags[1] length: {len(train_encod_ner_tensor[1])}\\n')\n",
        "\n",
        "print(sentences[1])\n",
        "print((train_emb_sentences_tensor[1]))\n",
        "print(train_emb_sentences_tensor[1].shape)\n",
        "\n",
        "print((ner_sentences[1]))\n",
        "print(train_encod_ner_tensor[1])\n",
        "# print(train_encod_ner_tensor.shape) #error\n",
        "# print(len(train_encod_ner_tensor))"
      ],
      "metadata": {
        "colab": {
          "base_uri": "https://localhost:8080/"
        },
        "id": "qf5EH0QDJ3zt",
        "outputId": "0d93363c-fc4c-47ab-d524-c84940809bb6"
      },
      "execution_count": null,
      "outputs": [
        {
          "output_type": "stream",
          "name": "stdout",
          "text": [
            "Stentences length: 707\n",
            "Tags length: 707\n",
            "\n",
            "Stentences[1] length: 33\n",
            "Tags[1] length: 33\n",
            "\n",
            "['nadim', 'ladki', 'al-ain', ',', 'united', 'arab', 'emirates', '1996-12-06', 'japan', 'began', 'the', 'defence', 'of', 'their', 'asian', 'cup', 'title', 'with', 'a', 'lucky', '2-1', 'win', 'against', 'syria', 'in', 'a', 'group', 'c', 'championship', 'match', 'on', 'friday', '.']\n",
            "tensor([[-3.6587e-01, -4.4553e-01,  1.1329e+00,  ..., -2.3450e-01,\n",
            "          8.6040e-01,  1.0100e-01],\n",
            "        [-4.5430e-01, -4.3524e-01, -1.3251e-01,  ...,  5.7889e-01,\n",
            "          7.7915e-01,  6.9520e-01],\n",
            "        [ 2.7189e-01, -7.7337e-02, -6.3594e-01,  ...,  6.3890e-02,\n",
            "         -7.4534e-01, -2.1188e-01],\n",
            "        ...,\n",
            "        [ 3.0045e-01,  2.5006e-01, -1.6692e-01,  ..., -7.1310e-02,\n",
            "          2.3052e-01, -5.1939e-01],\n",
            "        [ 1.8662e-01,  6.7127e-02,  3.8229e-04,  ...,  7.5489e-01,\n",
            "          2.8522e-01, -3.5622e-01],\n",
            "        [ 1.5164e-01,  3.0177e-01, -1.6763e-01,  ..., -3.5652e-01,\n",
            "          1.6413e-02,  1.0216e-01]])\n",
            "torch.Size([33, 50])\n",
            "['B-PER', 'I-PER', 'B-LOC', 'O', 'B-LOC', 'I-LOC', 'I-LOC', 'O', 'B-LOC', 'O', 'O', 'O', 'O', 'O', 'B-MISC', 'I-MISC', 'O', 'O', 'O', 'O', 'O', 'O', 'O', 'B-LOC', 'O', 'O', 'O', 'O', 'O', 'O', 'O', 'O', 'O']\n",
            "tensor([3, 7, 0, 8, 0, 4, 4, 8, 0, 8, 8, 8, 8, 8, 1, 5, 8, 8, 8, 8, 8, 8, 8, 0,\n",
            "        8, 8, 8, 8, 8, 8, 8, 8, 8])\n"
          ]
        }
      ]
    },
    {
      "cell_type": "code",
      "source": [
        "input_size = 50  # Dimension of input vectors\n",
        "hidden_size = 100  # Dimension of LSTM hidden layer\n",
        "output_size = 9  # Number of classes for NER labels\n",
        "model = LSTM(input_size, hidden_size, output_size)\n",
        "\n",
        "# Define loss function and optimizer\n",
        "loss_function = nn.CrossEntropyLoss()\n",
        "optimizer = optim.Adam(model.parameters())\n",
        "\n",
        "# Set training parameters\n",
        "num_epochs = 10\n",
        "batch_size = 1\n",
        "\n",
        "# Convert data to TensorDataset\n",
        "train_emb_sentences_tensor = torch.cat(train_emb_sentences_tensor)  # before adding these two, error about different length\n",
        "train_encod_ner_tensor = torch.cat(train_encod_ner_tensor)\n",
        "# train_dataset = torch.utils.data.TensorDataset(train_emb_sentences_tensor, train_encod_ner_tensor)\n",
        "# train_loader = torch.utils.data.DataLoader(train_dataset, batch_size=batch_size, shuffle=True)\n",
        "\n",
        "# do the same\n",
        "dev_emb_sentences_tensor = torch.cat(dev_emb_sentences_tensor)\n",
        "dev_encod_ner_tensor = torch.cat(dev_encod_ner_tensor)\n",
        "# dev_dataset = torch.utils.data.TensorDataset(dev_emb_sentences_tensor, dev_encod_ner_tensor)\n",
        "# dev_loader = torch.utils.data.DataLoader(dev_dataset, batch_size=batch_size)\n",
        "\n",
        "def train(model, loss_fn, optimizer, train_data, train_label, dev_data, dev_label, epochs):\n",
        "    logs_loss = []\n",
        "    logs_f1_score = []\n",
        "\n",
        "    train_dataset = torch.utils.data.TensorDataset(train_data, train_label)\n",
        "    train_loader = torch.utils.data.DataLoader(train_dataset, batch_size=1, shuffle=True)\n",
        "\n",
        "    for epoch in range(epochs):\n",
        "        total_loss = 0\n",
        "\n",
        "        model.train()\n",
        "        for inputs, targets in train_loader:\n",
        "            optimizer.zero_grad()\n",
        "            outputs = model(inputs)\n",
        "            loss = loss_fn(outputs.view(-1, output_size), targets.view(-1))\n",
        "            loss.backward()\n",
        "            optimizer.step()\n",
        "            total_loss += loss.item()\n",
        "\n",
        "        avg_loss = total_loss / len(train_loader)\n",
        "        logs_loss.append(avg_loss)\n",
        "\n",
        "        model.eval()\n",
        "        with torch.no_grad():\n",
        "            dev_outputs = model(dev_data)\n",
        "            dev_loss = loss_fn(dev_outputs.view(-1, output_size), dev_label.view(-1))\n",
        "            dev_loss = dev_loss.item()\n",
        "\n",
        "            dev_predictions = torch.argmax(dev_outputs, dim=1).view(-1)\n",
        "            dev_labels = dev_label.view(-1)\n",
        "            dev_f1_score = f1_score(dev_labels, dev_predictions, average='macro')\n",
        "            logs_f1_score.append(dev_f1_score)\n",
        "\n",
        "        print(f\"Epoch {epoch+1}/{epochs}, Train Loss: {avg_loss:.4f}, Dev Loss: {dev_loss:.4f}, Dev F1 Score: {dev_f1_score:.4f}\")\n",
        "\n",
        "    return logs_loss, logs_f1_score\n",
        "\n",
        "logs_loss, logs_f1_score = train(model, loss_function, optimizer, train_emb_sentences_tensor, train_encod_ner_tensor, dev_emb_sentences_tensor, dev_encod_ner_tensor, num_epochs)"
      ],
      "metadata": {
        "id": "WJreNFlF18BK",
        "colab": {
          "base_uri": "https://localhost:8080/"
        },
        "outputId": "702331d8-a5eb-4a5d-fe20-74c6ea935a64"
      },
      "execution_count": null,
      "outputs": [
        {
          "output_type": "stream",
          "name": "stdout",
          "text": [
            "Epoch 1/10, Train Loss: 1.4840, Dev Loss: 1.5090, Dev F1 Score: 0.1704\n",
            "Epoch 2/10, Train Loss: 1.4498, Dev Loss: 1.5009, Dev F1 Score: 0.2604\n",
            "Epoch 3/10, Train Loss: 1.4409, Dev Loss: 1.5030, Dev F1 Score: 0.2654\n",
            "Epoch 4/10, Train Loss: 1.4355, Dev Loss: 1.4996, Dev F1 Score: 0.2802\n",
            "Epoch 5/10, Train Loss: 1.4317, Dev Loss: 1.5021, Dev F1 Score: 0.2645\n",
            "Epoch 6/10, Train Loss: 1.4289, Dev Loss: 1.4944, Dev F1 Score: 0.2997\n",
            "Epoch 7/10, Train Loss: 1.4272, Dev Loss: 1.5012, Dev F1 Score: 0.2735\n",
            "Epoch 8/10, Train Loss: 1.4253, Dev Loss: 1.5003, Dev F1 Score: 0.2874\n",
            "Epoch 9/10, Train Loss: 1.4238, Dev Loss: 1.5041, Dev F1 Score: 0.2856\n",
            "Epoch 10/10, Train Loss: 1.4228, Dev Loss: 1.5010, Dev F1 Score: 0.2786\n"
          ]
        }
      ]
    },
    {
      "cell_type": "markdown",
      "source": [
        "## **Task 1.4: Visualizing (5p)**\n",
        "\n",
        "Check the performance of the model on the test set and plot the training loss using `matplotlib.pyplot.plot`."
      ],
      "metadata": {
        "id": "xz6uyUXFWnAe"
      }
    },
    {
      "cell_type": "code",
      "source": [
        "test_sentences, test_ner_sentences = generate_sentences(test_data, test_label)\n",
        "test_emb_sentences, test_encod_ner = preprocess_sentences(test_sentences, test_ner_sentences, embeddings)\n",
        "test_emb_sentences_tensor = [torch.stack(tokens) for tokens in test_emb_sentences]\n",
        "test_encod_ner_tensor = [torch.tensor(labels) for labels in test_encod_ner]\n",
        "test_emb_sentences_tensor = torch.cat(test_emb_sentences_tensor)\n",
        "test_encod_ner_tensor = torch.cat(test_encod_ner_tensor)\n",
        "test_dataset = torch.utils.data.TensorDataset(test_emb_sentences_tensor, test_encod_ner_tensor)\n",
        "test_loader = torch.utils.data.DataLoader(test_dataset, batch_size=batch_size)\n",
        "\n",
        "# Evaluate with test set\n",
        "model.eval()\n",
        "test_loss = 0\n",
        "total_f1_score = 0\n",
        "with torch.no_grad():\n",
        "    for inputs, targets in test_loader:\n",
        "        outputs = model(inputs)\n",
        "        loss = loss_function(outputs.view(-1, output_size), targets.view(-1))\n",
        "        test_loss += loss.item()\n",
        "        predictions = torch.argmax(outputs, dim=1).view(-1)\n",
        "        targets = targets.view(-1)\n",
        "        test_f1_score = f1_score(targets, predictions, average='macro')\n",
        "        total_f1_score += test_f1_score  # Updated the variable name\n",
        "test_loss /= len(test_loader)\n",
        "total_f1_score /= len(test_loader)  # Updated the variable name\n",
        "print(f\"Test Loss: {test_loss:.4f}\")\n",
        "print(f\"Test F1 Score: {total_f1_score:.4f}\")\n",
        "\n",
        "\n",
        "# Plot with matplotlib\n",
        "plt.plot(logs_loss)\n",
        "plt.xlabel('Epoch')\n",
        "plt.ylabel('Training Loss')\n",
        "plt.title('Training Loss')\n",
        "plt.show()\n"
      ],
      "metadata": {
        "id": "enRLWn887ytw",
        "colab": {
          "base_uri": "https://localhost:8080/",
          "height": 544
        },
        "outputId": "b92361d9-11e4-47c8-e1d3-ee2394d1a8d6"
      },
      "execution_count": null,
      "outputs": [
        {
          "output_type": "stream",
          "name": "stderr",
          "text": [
            "<ipython-input-94-deec4dbdb5b8>:4: UserWarning: To copy construct from a tensor, it is recommended to use sourceTensor.clone().detach() or sourceTensor.clone().detach().requires_grad_(True), rather than torch.tensor(sourceTensor).\n",
            "  test_encod_ner_tensor = [torch.tensor(labels) for labels in test_encod_ner]\n"
          ]
        },
        {
          "output_type": "stream",
          "name": "stdout",
          "text": [
            "Test Loss: 1.4486\n",
            "Test F1 Score: 0.9088\n"
          ]
        },
        {
          "output_type": "display_data",
          "data": {
            "text/plain": [
              "<Figure size 640x480 with 1 Axes>"
            ],
            "image/png": "[encoded data removed]"
          },
          "metadata": {}
        }
      ]
    }
  ]
}